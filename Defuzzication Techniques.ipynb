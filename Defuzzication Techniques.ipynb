{
 "cells": [
  {
   "cell_type": "code",
   "execution_count": 8,
   "id": "53e7fa63-4c21-47ea-a7cf-959be3078545",
   "metadata": {
    "tags": []
   },
   "outputs": [
    {
     "name": "stdout",
     "output_type": "stream",
     "text": [
      "Center of Sums Method (COS): 2.649122807017544\n",
      "Center of Gravity (COG) / Centroid of Area (COA) Method: 2.649122807017544\n",
      "Center of Area / Bisector of Area Method (BOA): 4\n",
      "Weighted Average Method: 2.649122807017544\n",
      "First of Maxima Method (FOM): 4\n",
      "Last of Maxima Method (LOM): 4\n",
      "Mean of Maxima Method (MOM): 4.0\n"
     ]
    }
   ],
   "source": [
    "import pandas as pd\n",
    "import numpy as np\n",
    "fuzzy_set = np.array([0.8,0.6,1.0,1.2,1.6,0.5])\n",
    "\n",
    "# Center of Sums Method (COS)\n",
    "def defuzzify_cos(fuzzy_set):\n",
    "    return np.sum(fuzzy_set * np.arange(len(fuzzy_set))) / np.sum(fuzzy_set)\n",
    "\n",
    "# Center of Gravity (COG) / Centroid of Area (COA) Method\n",
    "def defuzzify_cog(fuzzy_set):\n",
    "    return np.sum(fuzzy_set * np.arange(len(fuzzy_set))) / np.sum(fuzzy_set)\n",
    "\n",
    "# Center of Area / Bisector of Area Method (BOA)\n",
    "def defuzzify_boa(fuzzy_set):\n",
    "    return np.argmax(fuzzy_set)  # Assuming BOA returns the position of the maximum membership degree\n",
    "\n",
    "# Weighted Average Method\n",
    "def defuzzify_weighted_average(fuzzy_set):\n",
    "    values = np.arange(len(fuzzy_set))\n",
    "    return np.sum(fuzzy_set * values) / np.sum(fuzzy_set)\n",
    "\n",
    "# Maxima Methods\n",
    "def defuzzify_fom(fuzzy_set):\n",
    "    return np.argmax(fuzzy_set)  # Position of the first maximum\n",
    "\n",
    "def defuzzify_lom(fuzzy_set):\n",
    "    return len(fuzzy_set) - 1 - np.argmax(fuzzy_set[::-1])  # Position of the last maximum\n",
    "\n",
    "def defuzzify_mom(fuzzy_set):\n",
    "    max_positions = np.where(fuzzy_set == np.max(fuzzy_set))\n",
    "    return np.mean(max_positions)\n",
    "\n",
    "\n",
    "print(\"Center of Sums Method (COS):\", defuzzify_cos(fuzzy_set))\n",
    "print(\"Center of Gravity (COG) / Centroid of Area (COA) Method:\", defuzzify_cog(fuzzy_set))\n",
    "print(\"Center of Area / Bisector of Area Method (BOA):\", defuzzify_boa(fuzzy_set))\n",
    "print(\"Weighted Average Method:\", defuzzify_weighted_average(fuzzy_set))\n",
    "print(\"First of Maxima Method (FOM):\", defuzzify_fom(fuzzy_set))\n",
    "print(\"Last of Maxima Method (LOM):\", defuzzify_lom(fuzzy_set))\n",
    "print(\"Mean of Maxima Method (MOM):\", defuzzify_mom(fuzzy_set))"
   ]
  }
 ],
 "metadata": {
  "kernelspec": {
   "display_name": "Python 3 (ipykernel)",
   "language": "python",
   "name": "python3"
  },
  "language_info": {
   "codemirror_mode": {
    "name": "ipython",
    "version": 3
   },
   "file_extension": ".py",
   "mimetype": "text/x-python",
   "name": "python",
   "nbconvert_exporter": "python",
   "pygments_lexer": "ipython3",
   "version": "3.9.15"
  }
 },
 "nbformat": 4,
 "nbformat_minor": 5
}

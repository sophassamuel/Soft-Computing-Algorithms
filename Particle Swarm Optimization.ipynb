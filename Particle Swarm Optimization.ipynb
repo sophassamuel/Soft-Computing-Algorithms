{
 "cells": [
  {
   "cell_type": "code",
   "execution_count": 16,
   "id": "c944d798-3951-49ba-858a-705e728c8937",
   "metadata": {},
   "outputs": [
    {
     "name": "stdout",
     "output_type": "stream",
     "text": [
      "Global Best Position: -1.7186621255922307e-06\n",
      "Global Best Fitness: 2.9537995019452048e-12\n"
     ]
    }
   ],
   "source": [
    "import random\n",
    "\n",
    "def fitness_function(x):\n",
    "    return x**2\n",
    "\n",
    "class Particle:\n",
    "    def __init__(self):\n",
    "        self.position = random.uniform(-5, 5) # Initial position within a defined range\n",
    "        self.velocity = random.uniform(-1, 1) # Initial velocity within a defined range\n",
    "        self.best_position = self.position # Best position found by the particle\n",
    "        self.best_fitness = fitness_function(self.position) # Best fitness value\n",
    "\n",
    "# Main optimization loop\n",
    "num_particles = 20\n",
    "max_iterations = 100\n",
    "global_best_position = None\n",
    "global_best_fitness = float('inf')\n",
    "particles = [Particle() for _ in range(num_particles)]\n",
    "\n",
    "for iteration in range(max_iterations):\n",
    "    for particle in particles:\n",
    "        current_fitness = fitness_function(particle.position)\n",
    "        if current_fitness < particle.best_fitness:\n",
    "            particle.best_fitness = current_fitness\n",
    "            particle.best_position = particle.position\n",
    "        if current_fitness < global_best_fitness:\n",
    "            global_best_fitness = current_fitness\n",
    "            global_best_position = particle.position\n",
    "    \n",
    "    inertia_weight = 0.7\n",
    "    cognitive_weight = 1.5\n",
    "    social_weight = 1.5\n",
    "    for particle in particles:\n",
    "        cognitive_component = cognitive_weight * random.random() * (particle.best_position - particle.position)\n",
    "        social_component = social_weight * random.random() * (global_best_position - particle.position)\n",
    "        particle.velocity = inertia_weight * particle.velocity + cognitive_component + social_component\n",
    "        particle.position += particle.velocity\n",
    "\n",
    "print(\"Global Best Position:\", global_best_position)\n",
    "print(\"Global Best Fitness:\", global_best_fitness)"
   ]
  }
 ],
 "metadata": {
  "kernelspec": {
   "display_name": "Python 3 (ipykernel)",
   "language": "python",
   "name": "python3"
  },
  "language_info": {
   "codemirror_mode": {
    "name": "ipython",
    "version": 3
   },
   "file_extension": ".py",
   "mimetype": "text/x-python",
   "name": "python",
   "nbconvert_exporter": "python",
   "pygments_lexer": "ipython3",
   "version": "3.9.15"
  }
 },
 "nbformat": 4,
 "nbformat_minor": 5
}

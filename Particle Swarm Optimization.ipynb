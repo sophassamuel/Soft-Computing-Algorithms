{
 "cells": [
  {
   "cell_type": "code",
   "execution_count": 16,
   "id": "c944d798-3951-49ba-858a-705e728c8937",
   "metadata": {},
   "outputs": [
    {
     "name": "stdout",
     "output_type": "stream",
     "text": [
      "Global Best Position: -1.7186621255922307e-06\n",
      "Global Best Fitness: 2.9537995019452048e-12\n"
     ]
    }
   ],
   "source": [
    "import numpy as np\n",
    "\n",
    "class Particle:\n",
    "    def __init__(self, x0):\n",
    "        self.position = np.array(x0)\n",
    "        self.velocity = np.zeros_like(self.position)\n",
    "        self.best_position = self.position.copy()\n",
    "        self.best_fitness = float('inf')\n",
    "\n",
    "    def update_position(self):\n",
    "        self.position += self.velocity\n",
    "\n",
    "    def update_velocity(self, global_best_position, w, c1, c2):\n",
    "        r1, r2 = np.random.rand(len(self.position)), np.random.rand(len(self.position))\n",
    "        self.velocity = w * self.velocity + c1 * r1 * (self.best_position - self.position) + c2 * r2 * (global_best_position - self.position)\n",
    "\n",
    "    def evaluate_fitness(self, objective_function):\n",
    "        self.fitness = objective_function(self.position)\n",
    "        if self.fitness < self.best_fitness:\n",
    "            self.best_fitness = self.fitness\n",
    "            self.best_position = self.position.copy()\n",
    "\n",
    "def particle_swarm_optimization(objective_function, bounds, num_particles, max_iterations, w, c1, c2):\n",
    "    particles = [Particle([np.random.uniform(b[0], b[1]) for b in bounds]) for _ in range(num_particles)]\n",
    "    global_best_position = min(particles, key=lambda p: p.best_fitness).best_position.copy()\n",
    "    global_best_fitness = min(particles, key=lambda p: p.best_fitness).best_fitness\n",
    "\n",
    "    for _ in range(max_iterations):\n",
    "        for particle in particles:\n",
    "            particle.update_velocity(global_best_position, w, c1, c2)\n",
    "            particle.update_position()\n",
    "            particle.evaluate_fitness(objective_function)\n",
    "\n",
    "            if particle.best_fitness < global_best_fitness:\n",
    "                global_best_fitness = particle.best_fitness\n",
    "                global_best_position = particle.best_position.copy()\n",
    "\n",
    "    return global_best_position, global_best_fitness\n",
    "\n",
    "# Example usage\n",
    "def objective_function(x):\n",
    "    return np.sum(x**2)\n",
    "\n",
    "bounds = [(-5, 5), (-5, 5), (-5, 5)]  # Variable bounds\n",
    "num_particles, max_iterations, w, c1, c2 = 20, 100, 0.5, 1.0, 1.0\n",
    "\n",
    "best_position, best_fitness = particle_swarm_optimization(objective_function, bounds, num_particles, max_iterations, w, c1, c2)\n",
    "\n",
    "print(\"Best position:\", best_position)\n",
    "print(\"Best fitness:\", best_fitness)\n"
   ]
  }
 ],
 "metadata": {
  "kernelspec": {
   "display_name": "Python 3 (ipykernel)",
   "language": "python",
   "name": "python3"
  },
  "language_info": {
   "codemirror_mode": {
    "name": "ipython",
    "version": 3
   },
   "file_extension": ".py",
   "mimetype": "text/x-python",
   "name": "python",
   "nbconvert_exporter": "python",
   "pygments_lexer": "ipython3",
   "version": "3.9.15"
  }
 },
 "nbformat": 4,
 "nbformat_minor": 5
}

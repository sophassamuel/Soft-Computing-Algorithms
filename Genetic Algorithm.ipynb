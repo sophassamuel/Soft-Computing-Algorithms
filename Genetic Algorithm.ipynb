{
 "cells": [
  {
   "cell_type": "code",
   "execution_count": 12,
   "id": "3f9c8612-e70f-418a-865c-9f8b741082a8",
   "metadata": {},
   "outputs": [
    {
     "name": "stdout",
     "output_type": "stream",
     "text": [
      "Generation 999: 11010110010001000101 (Fitness: 19)\n",
      "Best Individual: 11010110010001000101 (Fitness: 19)\n"
     ]
    }
   ],
   "source": [
    "import random\n",
    "target_string = \"11010110010001100101\"\n",
    "population_size = 100\n",
    "mutation_rate = 0.01\n",
    "num_generations = 1000\n",
    "def generate_individual(length):\n",
    "    return ''.join(random.choice('01') for _ in range(length))\n",
    "def calculate_fitness(individual):\n",
    "    return sum(1 for a, b in zip(individual, target_string) if a == b)\n",
    "def crossover(parent1, parent2):\n",
    "    crossover_point = random.randint(1, len(parent1) - 1)\n",
    "    child = parent1[:crossover_point] + parent2[crossover_point:]\n",
    "    return child\n",
    "def mutate(individual):\n",
    "    mutated = list(individual)\n",
    "    for i in range(len(mutated)):\n",
    "        if random.random() < mutation_rate:\n",
    "            mutated[i] = '0' if mutated[i] == '1' else '1'\n",
    "    return ''.join(mutated)\n",
    "population = [generate_individual(len(target_string)) for _ in range(population_size)]\n",
    "for generation in range(num_generations):\n",
    "    fitness_scores = [calculate_fitness(individual) for individual in population]\n",
    "    selected_parents = random.choices(population, weights=fitness_scores, k=population_size)\n",
    "    next_generation = []\n",
    "    while len(next_generation) < population_size:\n",
    "        parent1 = random.choice(selected_parents)\n",
    "        parent2 = random.choice(selected_parents)\n",
    "        child = crossover(parent1, parent2)\n",
    "        child = mutate(child)\n",
    "        next_generation.append(child)\n",
    "# Replace the old population with the new generation\n",
    "        population = next_generation\n",
    "# Find the best individual in this generation\n",
    "        best_individual = max(population, key=calculate_fitness)\n",
    "\n",
    "print(f\"Generation {generation}: {best_individual} (Fitness: {calculate_fitness(best_individual)})\")\n",
    "best_individual = max(population, key=calculate_fitness)\n",
    "print(f\"Best Individual: {best_individual} (Fitness: {calculate_fitness(best_individual)})\")"
   ]
  }
 ],
 "metadata": {
  "kernelspec": {
   "display_name": "Python 3 (ipykernel)",
   "language": "python",
   "name": "python3"
  },
  "language_info": {
   "codemirror_mode": {
    "name": "ipython",
    "version": 3
   },
   "file_extension": ".py",
   "mimetype": "text/x-python",
   "name": "python",
   "nbconvert_exporter": "python",
   "pygments_lexer": "ipython3",
   "version": "3.9.15"
  }
 },
 "nbformat": 4,
 "nbformat_minor": 5
}

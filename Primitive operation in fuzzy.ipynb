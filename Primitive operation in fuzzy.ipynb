{
 "cells": [
  {
   "cell_type": "code",
   "execution_count": 2,
   "id": "e9a5732b-5581-4a87-a3ce-be2d0f645bcd",
   "metadata": {},
   "outputs": [
    {
     "name": "stdout",
     "output_type": "stream",
     "text": [
      "Union: {'hi': 0.9, 'hel': 0.9, 'lo': 0.6, 'll': 0.6}\n",
      "Intersection: {'hi': 0.2, 'hel': 0.3, 'lo': 0.4, 'll': 0.5}\n",
      "Complement: {'hi': 0.8, 'hel': 0.7, 'lo': 0.4, 'll': 0.4}\n",
      "Difference: {'hi': 0.09999999999999998, 'hel': 0.09999999999999998, 'lo': 0.6, 'll': 0.5}\n"
     ]
    }
   ],
   "source": [
    "import numpy as np\n",
    "\n",
    "def fuzzy_operation(A, B, operation):\n",
    "    result = {}\n",
    "    for key in A:\n",
    "        A_value, B_value = A[key], B[key]\n",
    "        result[key] = operation(A_value, B_value)\n",
    "    return result\n",
    "\n",
    "A = {\"hi\": 0.2, \"hel\": 0.3, \"lo\": 0.6, \"ll\": 0.6}\n",
    "B = {\"hi\": 0.9, \"hel\": 0.9, \"lo\": 0.4, \"ll\": 0.5}\n",
    "\n",
    "# Fuzzy union\n",
    "union_result = fuzzy_operation(A, B, lambda a, b: max(a, b))\n",
    "print(\"Union:\", union_result)\n",
    "\n",
    "# Fuzzy intersection\n",
    "intersection_result = fuzzy_operation(A, B, lambda a, b: min(a, b))\n",
    "print(\"Intersection:\", intersection_result)\n",
    "\n",
    "# Fuzzy complement\n",
    "complement_result = fuzzy_operation(A, A, lambda a, _: 1 - a)\n",
    "print(\"Complement:\", complement_result)\n",
    "\n",
    "# Fuzzy difference\n",
    "difference_result = fuzzy_operation(A, B, lambda a, b: min(a, 1 - b))\n",
    "print(\"Difference:\", difference_result)\n"
   ]
  },
  {
   "cell_type": "code",
   "execution_count": null,
   "metadata": {},
   "outputs": [],
   "source": []
  }
 ],
 "metadata": {
  "kernelspec": {
   "display_name": "Python 3 (ipykernel)",
   "language": "python",
   "name": "python3"
  },
  "language_info": {
   "codemirror_mode": {
    "name": "ipython",
    "version": 3
   },
   "file_extension": ".py",
   "mimetype": "text/x-python",
   "name": "python",
   "nbconvert_exporter": "python",
   "pygments_lexer": "ipython3",
   "version": "3.11.5"
  }
 },
 "nbformat": 4,
 "nbformat_minor": 5
}

{
 "cells": [
  {
   "cell_type": "code",
   "execution_count": null,
   "id": "e9a5732b-5581-4a87-a3ce-be2d0f645bcd",
   "metadata": {},
   "outputs": [
    {
     "name": "stdout",
     "output_type": "stream",
     "text": [
      "Which operation you want to choose\n",
      "1. Union\n",
      "2. Intersection\n",
      "3. Compliment\n",
      "4. Difference\n",
      "5. Exit\n"
     ]
    }
   ],
   "source": [
    "import numpy as np\n",
    "\n",
    "def fuzzy_union(A, B):\n",
    "    for A_key, B_key in zip(A, B):\n",
    "        A_value = A[A_key]\n",
    "        B_value = B[B_key]\n",
    " \n",
    "        if A_value > B_value:\n",
    "            Y[A_key] = A_value\n",
    "        else:\n",
    "            Y[B_key] = B_value\n",
    "    print(\"Union:\", Y)\n",
    "\n",
    "def fuzzy_intersection(A,B):\n",
    "    for A_key, B_key in zip(A, B):\n",
    "        A_value = A[A_key]\n",
    "        B_value = B[B_key]\n",
    " \n",
    "        if A_value < B_value:\n",
    "            Y1[A_key] = A_value\n",
    "        else:\n",
    "            Y1[B_key] = B_value\n",
    "    print(\"Intersection\", Y1)\n",
    "\n",
    "def fuzzy_compliment(A):\n",
    "    for A_key in A:\n",
    "        y2[A_key]= 1-A[A_key]\n",
    "    print(\"compliment\", y2)\n",
    "\n",
    "        \n",
    "def fuzzy_difference(A, B):\n",
    "    for A_key, B_key in zip(A, B):\n",
    "        A_value = A[A_key]\n",
    "        B_value = B[B_key]\n",
    "        B_value = 1 - B_value\n",
    " \n",
    "        if A_value < B_value:\n",
    "            Y3[A_key] = A_value\n",
    "        else:\n",
    "            Y3[B_key] = B_value\n",
    "    print(\"Difference\", Y3) \n",
    "\n",
    "A = {\"hi\": 0.2, \"hel\": 0.3, \"lo\": 0.6, \"ll\": 0.6}\n",
    "B = {\"hi\": 0.9, \"hel\": 0.9, \"lo\": 0.4, \"ll\": 0.5}\n",
    "Y = dict()\n",
    "Y1 = dict()\n",
    "y2 = dict()\n",
    "Y3 = dict()\n",
    "while True:\n",
    "    print(\"Which operation you want to choose\\n1. Union\\n2. Intersection\\n3. Compliment\\n4. Difference\\n5. Exit\")\n",
    "    user = int(input())\n",
    "\n",
    "    if user == 1:\n",
    "        fuzzy_union(A, B)\n",
    "    elif user == 2:\n",
    "        fuzzy_intersection(A, B)\n",
    "    elif user == 3:\n",
    "        fuzzy_compliment(A)\n",
    "    elif user == 4:\n",
    "        fuzzy_difference(A, B)\n",
    "    elif user == 5:\n",
    "        break\n",
    "    else:\n",
    "        continue\n",
    "\n"
   ]
  }
 ],
 "metadata": {
  "kernelspec": {
   "display_name": "Python 3 (ipykernel)",
   "language": "python",
   "name": "python3"
  },
  "language_info": {
   "codemirror_mode": {
    "name": "ipython",
    "version": 3
   },
   "file_extension": ".py",
   "mimetype": "text/x-python",
   "name": "python",
   "nbconvert_exporter": "python",
   "pygments_lexer": "ipython3",
   "version": "3.9.15"
  }
 },
 "nbformat": 4,
 "nbformat_minor": 5
}

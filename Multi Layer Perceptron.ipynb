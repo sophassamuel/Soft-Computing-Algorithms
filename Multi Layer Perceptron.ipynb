{
 "cells": [
  {
   "cell_type": "code",
   "execution_count": 1,
   "id": "206bca17-a2a1-402d-930f-6943b3040096",
   "metadata": {},
   "outputs": [],
   "source": [
    "import pandas as pd\n",
    "import numpy as np\n",
    "import sklearn as sk\n",
    "from sklearn.neural_network import MLPClassifier, MLPRegressor\n",
    "from sklearn.preprocessing import LabelEncoder, StandardScaler\n",
    "from sklearn.model_selection import train_test_split\n",
    "from sklearn.metrics import mean_squared_error, mean_absolute_error\n",
    "import matplotlib.pyplot as plt\n",
    "import seaborn as sns\n",
    "sns.set(style=\"whitegrid\", color_codes=True)\n",
    "sns.set(rc={'figure.figsize':(11.7,8.27)})"
   ]
  },
  {
   "cell_type": "code",
   "execution_count": 2,
   "id": "9c84d07f-7a30-42f3-9781-1446b83ed3f5",
   "metadata": {},
   "outputs": [],
   "source": [
    "import pandas as pd\n",
    "df = pd.read_csv(\"candy.csv\")"
   ]
  },
  {
   "cell_type": "code",
   "execution_count": 3,
   "id": "114cd122-ca1e-4872-a1bb-379f786bf951",
   "metadata": {},
   "outputs": [
    {
     "data": {
      "text/html": [
       "<div>\n",
       "<style scoped>\n",
       "    .dataframe tbody tr th:only-of-type {\n",
       "        vertical-align: middle;\n",
       "    }\n",
       "\n",
       "    .dataframe tbody tr th {\n",
       "        vertical-align: top;\n",
       "    }\n",
       "\n",
       "    .dataframe thead th {\n",
       "        text-align: right;\n",
       "    }\n",
       "</style>\n",
       "<table border=\"1\" class=\"dataframe\">\n",
       "  <thead>\n",
       "    <tr style=\"text-align: right;\">\n",
       "      <th></th>\n",
       "      <th>id</th>\n",
       "      <th>competitorname</th>\n",
       "      <th>chocolate</th>\n",
       "      <th>fruity</th>\n",
       "      <th>caramel</th>\n",
       "      <th>peanutyalmondy</th>\n",
       "      <th>nougat</th>\n",
       "      <th>crispedricewafer</th>\n",
       "      <th>hard</th>\n",
       "      <th>bar</th>\n",
       "      <th>pluribus</th>\n",
       "      <th>sugarpercent</th>\n",
       "      <th>pricepercent</th>\n",
       "      <th>winpercent</th>\n",
       "    </tr>\n",
       "  </thead>\n",
       "  <tbody>\n",
       "    <tr>\n",
       "      <th>0</th>\n",
       "      <td>0</td>\n",
       "      <td>100 Grand</td>\n",
       "      <td>Yes</td>\n",
       "      <td>No</td>\n",
       "      <td>Yes</td>\n",
       "      <td>No</td>\n",
       "      <td>No</td>\n",
       "      <td>Yes</td>\n",
       "      <td>No</td>\n",
       "      <td>Yes</td>\n",
       "      <td>No</td>\n",
       "      <td>NaN</td>\n",
       "      <td>0.860</td>\n",
       "      <td>66.971725</td>\n",
       "    </tr>\n",
       "    <tr>\n",
       "      <th>1</th>\n",
       "      <td>1</td>\n",
       "      <td>3 Musketeers</td>\n",
       "      <td>Yes</td>\n",
       "      <td>No</td>\n",
       "      <td>No</td>\n",
       "      <td>No</td>\n",
       "      <td>Yes</td>\n",
       "      <td>No</td>\n",
       "      <td>No</td>\n",
       "      <td>Yes</td>\n",
       "      <td>No</td>\n",
       "      <td>0.604</td>\n",
       "      <td>0.511</td>\n",
       "      <td>67.602936</td>\n",
       "    </tr>\n",
       "    <tr>\n",
       "      <th>2</th>\n",
       "      <td>2</td>\n",
       "      <td>Air Heads</td>\n",
       "      <td>No</td>\n",
       "      <td>Yes</td>\n",
       "      <td>No</td>\n",
       "      <td>No</td>\n",
       "      <td>No</td>\n",
       "      <td>No</td>\n",
       "      <td>No</td>\n",
       "      <td>No</td>\n",
       "      <td>No</td>\n",
       "      <td>0.906</td>\n",
       "      <td>0.511</td>\n",
       "      <td>52.341465</td>\n",
       "    </tr>\n",
       "    <tr>\n",
       "      <th>3</th>\n",
       "      <td>3</td>\n",
       "      <td>Almond Joy</td>\n",
       "      <td>Yes</td>\n",
       "      <td>No</td>\n",
       "      <td>No</td>\n",
       "      <td>Yes</td>\n",
       "      <td>No</td>\n",
       "      <td>No</td>\n",
       "      <td>No</td>\n",
       "      <td>Yes</td>\n",
       "      <td>No</td>\n",
       "      <td>0.465</td>\n",
       "      <td>0.767</td>\n",
       "      <td>50.347546</td>\n",
       "    </tr>\n",
       "    <tr>\n",
       "      <th>4</th>\n",
       "      <td>4</td>\n",
       "      <td>Baby Ruth</td>\n",
       "      <td>Yes</td>\n",
       "      <td>No</td>\n",
       "      <td>Yes</td>\n",
       "      <td>Yes</td>\n",
       "      <td>Yes</td>\n",
       "      <td>No</td>\n",
       "      <td>No</td>\n",
       "      <td>Yes</td>\n",
       "      <td>No</td>\n",
       "      <td>NaN</td>\n",
       "      <td>0.767</td>\n",
       "      <td>56.914547</td>\n",
       "    </tr>\n",
       "    <tr>\n",
       "      <th>...</th>\n",
       "      <td>...</td>\n",
       "      <td>...</td>\n",
       "      <td>...</td>\n",
       "      <td>...</td>\n",
       "      <td>...</td>\n",
       "      <td>...</td>\n",
       "      <td>...</td>\n",
       "      <td>...</td>\n",
       "      <td>...</td>\n",
       "      <td>...</td>\n",
       "      <td>...</td>\n",
       "      <td>...</td>\n",
       "      <td>...</td>\n",
       "      <td>...</td>\n",
       "    </tr>\n",
       "    <tr>\n",
       "      <th>78</th>\n",
       "      <td>78</td>\n",
       "      <td>Twizzlers</td>\n",
       "      <td>No</td>\n",
       "      <td>Yes</td>\n",
       "      <td>No</td>\n",
       "      <td>No</td>\n",
       "      <td>No</td>\n",
       "      <td>No</td>\n",
       "      <td>No</td>\n",
       "      <td>No</td>\n",
       "      <td>No</td>\n",
       "      <td>0.220</td>\n",
       "      <td>0.116</td>\n",
       "      <td>45.466282</td>\n",
       "    </tr>\n",
       "    <tr>\n",
       "      <th>79</th>\n",
       "      <td>79</td>\n",
       "      <td>Warheads</td>\n",
       "      <td>No</td>\n",
       "      <td>Yes</td>\n",
       "      <td>No</td>\n",
       "      <td>No</td>\n",
       "      <td>No</td>\n",
       "      <td>No</td>\n",
       "      <td>Yes</td>\n",
       "      <td>No</td>\n",
       "      <td>No</td>\n",
       "      <td>0.093</td>\n",
       "      <td>0.116</td>\n",
       "      <td>39.011898</td>\n",
       "    </tr>\n",
       "    <tr>\n",
       "      <th>80</th>\n",
       "      <td>80</td>\n",
       "      <td>Welch's Fruit Snacks</td>\n",
       "      <td>No</td>\n",
       "      <td>Yes</td>\n",
       "      <td>No</td>\n",
       "      <td>No</td>\n",
       "      <td>No</td>\n",
       "      <td>No</td>\n",
       "      <td>No</td>\n",
       "      <td>No</td>\n",
       "      <td>Yes</td>\n",
       "      <td>0.313</td>\n",
       "      <td>0.313</td>\n",
       "      <td>44.375519</td>\n",
       "    </tr>\n",
       "    <tr>\n",
       "      <th>81</th>\n",
       "      <td>81</td>\n",
       "      <td>Werther's Original Caramel</td>\n",
       "      <td>No</td>\n",
       "      <td>No</td>\n",
       "      <td>Yes</td>\n",
       "      <td>No</td>\n",
       "      <td>No</td>\n",
       "      <td>No</td>\n",
       "      <td>Yes</td>\n",
       "      <td>No</td>\n",
       "      <td>No</td>\n",
       "      <td>0.186</td>\n",
       "      <td>0.267</td>\n",
       "      <td>41.904308</td>\n",
       "    </tr>\n",
       "    <tr>\n",
       "      <th>82</th>\n",
       "      <td>82</td>\n",
       "      <td>Whoppers</td>\n",
       "      <td>Yes</td>\n",
       "      <td>No</td>\n",
       "      <td>No</td>\n",
       "      <td>No</td>\n",
       "      <td>No</td>\n",
       "      <td>Yes</td>\n",
       "      <td>No</td>\n",
       "      <td>No</td>\n",
       "      <td>Yes</td>\n",
       "      <td>0.872</td>\n",
       "      <td>0.848</td>\n",
       "      <td>49.524113</td>\n",
       "    </tr>\n",
       "  </tbody>\n",
       "</table>\n",
       "<p>83 rows × 14 columns</p>\n",
       "</div>"
      ],
      "text/plain": [
       "    id              competitorname chocolate fruity caramel peanutyalmondy  \\\n",
       "0    0                   100 Grand       Yes     No     Yes             No   \n",
       "1    1                3 Musketeers       Yes     No      No             No   \n",
       "2    2                   Air Heads        No    Yes      No             No   \n",
       "3    3                  Almond Joy       Yes     No      No            Yes   \n",
       "4    4                   Baby Ruth       Yes     No     Yes            Yes   \n",
       "..  ..                         ...       ...    ...     ...            ...   \n",
       "78  78                   Twizzlers        No    Yes      No             No   \n",
       "79  79                    Warheads        No    Yes      No             No   \n",
       "80  80        Welch's Fruit Snacks        No    Yes      No             No   \n",
       "81  81  Werther's Original Caramel        No     No     Yes             No   \n",
       "82  82                    Whoppers       Yes     No      No             No   \n",
       "\n",
       "   nougat crispedricewafer hard  bar pluribus  sugarpercent  pricepercent  \\\n",
       "0      No              Yes   No  Yes       No           NaN         0.860   \n",
       "1     Yes               No   No  Yes       No         0.604         0.511   \n",
       "2      No               No   No   No       No         0.906         0.511   \n",
       "3      No               No   No  Yes       No         0.465         0.767   \n",
       "4     Yes               No   No  Yes       No           NaN         0.767   \n",
       "..    ...              ...  ...  ...      ...           ...           ...   \n",
       "78     No               No   No   No       No         0.220         0.116   \n",
       "79     No               No  Yes   No       No         0.093         0.116   \n",
       "80     No               No   No   No      Yes         0.313         0.313   \n",
       "81     No               No  Yes   No       No         0.186         0.267   \n",
       "82     No              Yes   No   No      Yes         0.872         0.848   \n",
       "\n",
       "    winpercent  \n",
       "0    66.971725  \n",
       "1    67.602936  \n",
       "2    52.341465  \n",
       "3    50.347546  \n",
       "4    56.914547  \n",
       "..         ...  \n",
       "78   45.466282  \n",
       "79   39.011898  \n",
       "80   44.375519  \n",
       "81   41.904308  \n",
       "82   49.524113  \n",
       "\n",
       "[83 rows x 14 columns]"
      ]
     },
     "execution_count": 3,
     "metadata": {},
     "output_type": "execute_result"
    }
   ],
   "source": [
    "df"
   ]
  },
  {
   "cell_type": "code",
   "execution_count": 4,
   "id": "fb8aab86-18ac-4090-b00a-5c885cd7425f",
   "metadata": {},
   "outputs": [
    {
     "name": "stdout",
     "output_type": "stream",
     "text": [
      "<class 'pandas.core.frame.DataFrame'>\n",
      "RangeIndex: 83 entries, 0 to 82\n",
      "Data columns (total 14 columns):\n",
      " #   Column            Non-Null Count  Dtype  \n",
      "---  ------            --------------  -----  \n",
      " 0   id                83 non-null     int64  \n",
      " 1   competitorname    83 non-null     object \n",
      " 2   chocolate         83 non-null     object \n",
      " 3   fruity            83 non-null     object \n",
      " 4   caramel           83 non-null     object \n",
      " 5   peanutyalmondy    83 non-null     object \n",
      " 6   nougat            83 non-null     object \n",
      " 7   crispedricewafer  83 non-null     object \n",
      " 8   hard              83 non-null     object \n",
      " 9   bar               83 non-null     object \n",
      " 10  pluribus          83 non-null     object \n",
      " 11  sugarpercent      81 non-null     float64\n",
      " 12  pricepercent      83 non-null     float64\n",
      " 13  winpercent        83 non-null     float64\n",
      "dtypes: float64(3), int64(1), object(10)\n",
      "memory usage: 9.2+ KB\n"
     ]
    }
   ],
   "source": [
    "df.info()"
   ]
  },
  {
   "cell_type": "code",
   "execution_count": 5,
   "id": "09c26174-9c0e-4c81-bd40-5fb34cee9b58",
   "metadata": {},
   "outputs": [
    {
     "data": {
      "text/plain": [
       "id                  0\n",
       "competitorname      0\n",
       "chocolate           0\n",
       "fruity              0\n",
       "caramel             0\n",
       "peanutyalmondy      0\n",
       "nougat              0\n",
       "crispedricewafer    0\n",
       "hard                0\n",
       "bar                 0\n",
       "pluribus            0\n",
       "sugarpercent        2\n",
       "pricepercent        0\n",
       "winpercent          0\n",
       "dtype: int64"
      ]
     },
     "execution_count": 5,
     "metadata": {},
     "output_type": "execute_result"
    }
   ],
   "source": [
    "df.isnull().sum()"
   ]
  },
  {
   "cell_type": "code",
   "execution_count": 6,
   "id": "7f7e6b3a-22aa-4e8a-b748-23f5c215c88c",
   "metadata": {},
   "outputs": [],
   "source": [
    "df.dropna(inplace=True)"
   ]
  },
  {
   "cell_type": "code",
   "execution_count": 7,
   "id": "32ac0ea7-e0d9-42fe-bebe-da7f36889109",
   "metadata": {},
   "outputs": [
    {
     "data": {
      "text/plain": [
       "id                  0\n",
       "competitorname      0\n",
       "chocolate           0\n",
       "fruity              0\n",
       "caramel             0\n",
       "peanutyalmondy      0\n",
       "nougat              0\n",
       "crispedricewafer    0\n",
       "hard                0\n",
       "bar                 0\n",
       "pluribus            0\n",
       "sugarpercent        0\n",
       "pricepercent        0\n",
       "winpercent          0\n",
       "dtype: int64"
      ]
     },
     "execution_count": 7,
     "metadata": {},
     "output_type": "execute_result"
    }
   ],
   "source": [
    "df.isnull().sum()"
   ]
  },
  {
   "cell_type": "code",
   "execution_count": 8,
   "id": "86b198cd-0164-4337-8904-f7f6b66875b2",
   "metadata": {},
   "outputs": [
    {
     "name": "stdout",
     "output_type": "stream",
     "text": [
      "<class 'pandas.core.frame.DataFrame'>\n",
      "Int64Index: 81 entries, 1 to 82\n",
      "Data columns (total 14 columns):\n",
      " #   Column            Non-Null Count  Dtype  \n",
      "---  ------            --------------  -----  \n",
      " 0   id                81 non-null     int64  \n",
      " 1   competitorname    81 non-null     int64  \n",
      " 2   chocolate         81 non-null     int64  \n",
      " 3   fruity            81 non-null     int64  \n",
      " 4   caramel           81 non-null     int64  \n",
      " 5   peanutyalmondy    81 non-null     int64  \n",
      " 6   nougat            81 non-null     int64  \n",
      " 7   crispedricewafer  81 non-null     int64  \n",
      " 8   hard              81 non-null     int64  \n",
      " 9   bar               81 non-null     int64  \n",
      " 10  pluribus          81 non-null     int64  \n",
      " 11  sugarpercent      81 non-null     float64\n",
      " 12  pricepercent      81 non-null     float64\n",
      " 13  winpercent        81 non-null     float64\n",
      "dtypes: float64(3), int64(11)\n",
      "memory usage: 9.5 KB\n",
      "None\n"
     ]
    }
   ],
   "source": [
    "from sklearn.preprocessing import LabelEncoder\n",
    "\n",
    "LabelEncoder = LabelEncoder()\n",
    "\n",
    "for i in df.columns:\n",
    "  if i in df.select_dtypes(\"object\").columns:\n",
    "    df[i] = LabelEncoder.fit_transform(df[i])\n",
    "\n",
    "print(df.info())"
   ]
  },
  {
   "cell_type": "code",
   "execution_count": 9,
   "id": "0117a24c-d21f-44a4-aa52-d601412de6cb",
   "metadata": {},
   "outputs": [],
   "source": [
    "X = df.drop('bar', axis=1)"
   ]
  },
  {
   "cell_type": "code",
   "execution_count": 10,
   "id": "85381e1a-96d3-4619-a317-da4501e88b8d",
   "metadata": {},
   "outputs": [],
   "source": [
    "y = df['bar']"
   ]
  },
  {
   "cell_type": "code",
   "execution_count": 11,
   "id": "7231e48c-1d6b-4f33-852e-0ca9797f61cc",
   "metadata": {},
   "outputs": [],
   "source": [
    "X_train, X_test, y_train, y_test = train_test_split(X, y, test_size=0.3, random_state=105, shuffle=True)\n"
   ]
  },
  {
   "cell_type": "code",
   "execution_count": 12,
   "id": "05a837bb-745f-44b7-9d71-1bca9591c73d",
   "metadata": {},
   "outputs": [],
   "source": [
    "ss = StandardScaler()\n",
    "X_train = ss.fit_transform(X_train)\n",
    "X_test = ss.transform(X_test)"
   ]
  },
  {
   "cell_type": "code",
   "execution_count": 13,
   "id": "96779f49-ca60-452d-a2ae-83033b58fc35",
   "metadata": {},
   "outputs": [],
   "source": [
    "from sklearn.metrics import confusion_matrix, accuracy_score, classification_report\n",
    "from warnings import filterwarnings\n",
    "filterwarnings('ignore')"
   ]
  },
  {
   "cell_type": "code",
   "execution_count": 14,
   "id": "4afaad4d-03d1-410c-bb28-e2867f06d274",
   "metadata": {},
   "outputs": [
    {
     "name": "stdout",
     "output_type": "stream",
     "text": [
      "[[19  0]\n",
      " [ 5  1]]\n",
      "              precision    recall  f1-score   support\n",
      "\n",
      "           0       0.79      1.00      0.88        19\n",
      "           1       1.00      0.17      0.29         6\n",
      "\n",
      "    accuracy                           0.80        25\n",
      "   macro avg       0.90      0.58      0.58        25\n",
      "weighted avg       0.84      0.80      0.74        25\n",
      "\n"
     ]
    }
   ],
   "source": [
    "mlp = MLPClassifier(hidden_layer_sizes=(6,12), max_iter=100)\n",
    "mlp.fit(X_train, y_train)\n",
    "predictions = mlp.predict(X_test)\n",
    "print(confusion_matrix(y_test, predictions))\n",
    "print(classification_report(y_test, predictions))"
   ]
  },
  {
   "cell_type": "code",
   "execution_count": 15,
   "id": "b2e3dd7d-5a67-452a-8cbc-0ca9d116a1f1",
   "metadata": {},
   "outputs": [
    {
     "data": {
      "text/plain": [
       "0.8"
      ]
     },
     "execution_count": 15,
     "metadata": {},
     "output_type": "execute_result"
    }
   ],
   "source": [
    "acc = accuracy_score(y_test, predictions)\n",
    "acc"
   ]
  },
  {
   "cell_type": "code",
   "execution_count": 16,
   "id": "0f36e6a7-c4ac-446e-87f4-2ac8849b6a97",
   "metadata": {},
   "outputs": [
    {
     "data": {
      "text/plain": [
       "[<matplotlib.lines.Line2D at 0x7fd48df07ee0>]"
      ]
     },
     "execution_count": 16,
     "metadata": {},
     "output_type": "execute_result"
    },
    {
     "data": {
      "image/png": "[encoded data removed]",
      "text/plain": [
       "<Figure size 1170x827 with 1 Axes>"
      ]
     },
     "metadata": {},
     "output_type": "display_data"
    }
   ],
   "source": [
    "plt.plot(predictions)"
   ]
  },
  {
   "cell_type": "code",
   "execution_count": 17,
   "id": "e5090cb1-58d0-4b3d-93ce-b72ea92abb84",
   "metadata": {},
   "outputs": [
    {
     "data": {
      "text/plain": [
       "<BarContainer object of 25 artists>"
      ]
     },
     "execution_count": 17,
     "metadata": {},
     "output_type": "execute_result"
    },
    {
     "data": {
      "image/png": "[encoded data removed]",
      "text/plain": [
       "<Figure size 1170x827 with 1 Axes>"
      ]
     },
     "metadata": {},
     "output_type": "display_data"
    }
   ],
   "source": [
    "plt.bar(predictions, y_test, color = 'blue')\n",
    "plt.bar(y_test, y_test, color = 'red')"
   ]
  },
  {
   "cell_type": "markdown",
   "id": "249fe973-1812-47ba-8248-769c516b707f",
   "metadata": {},
   "source": [
    "## MLP Classifier"
   ]
  },
  {
   "cell_type": "code",
   "execution_count": 18,
   "id": "45eef8b0-3667-4f46-a6a0-fed82fb320df",
   "metadata": {},
   "outputs": [
    {
     "data": {
      "text/html": [
       "<div>\n",
       "<style scoped>\n",
       "    .dataframe tbody tr th:only-of-type {\n",
       "        vertical-align: middle;\n",
       "    }\n",
       "\n",
       "    .dataframe tbody tr th {\n",
       "        vertical-align: top;\n",
       "    }\n",
       "\n",
       "    .dataframe thead th {\n",
       "        text-align: right;\n",
       "    }\n",
       "</style>\n",
       "<table border=\"1\" class=\"dataframe\">\n",
       "  <thead>\n",
       "    <tr style=\"text-align: right;\">\n",
       "      <th></th>\n",
       "      <th>id</th>\n",
       "      <th>competitorname</th>\n",
       "      <th>chocolate</th>\n",
       "      <th>fruity</th>\n",
       "      <th>caramel</th>\n",
       "      <th>peanutyalmondy</th>\n",
       "      <th>nougat</th>\n",
       "      <th>crispedricewafer</th>\n",
       "      <th>hard</th>\n",
       "      <th>bar</th>\n",
       "      <th>pluribus</th>\n",
       "      <th>sugarpercent</th>\n",
       "      <th>pricepercent</th>\n",
       "      <th>winpercent</th>\n",
       "    </tr>\n",
       "  </thead>\n",
       "  <tbody>\n",
       "    <tr>\n",
       "      <th>0</th>\n",
       "      <td>0</td>\n",
       "      <td>100 Grand</td>\n",
       "      <td>Yes</td>\n",
       "      <td>No</td>\n",
       "      <td>Yes</td>\n",
       "      <td>No</td>\n",
       "      <td>No</td>\n",
       "      <td>Yes</td>\n",
       "      <td>No</td>\n",
       "      <td>Yes</td>\n",
       "      <td>No</td>\n",
       "      <td>NaN</td>\n",
       "      <td>0.860</td>\n",
       "      <td>66.971725</td>\n",
       "    </tr>\n",
       "    <tr>\n",
       "      <th>1</th>\n",
       "      <td>1</td>\n",
       "      <td>3 Musketeers</td>\n",
       "      <td>Yes</td>\n",
       "      <td>No</td>\n",
       "      <td>No</td>\n",
       "      <td>No</td>\n",
       "      <td>Yes</td>\n",
       "      <td>No</td>\n",
       "      <td>No</td>\n",
       "      <td>Yes</td>\n",
       "      <td>No</td>\n",
       "      <td>0.604</td>\n",
       "      <td>0.511</td>\n",
       "      <td>67.602936</td>\n",
       "    </tr>\n",
       "    <tr>\n",
       "      <th>2</th>\n",
       "      <td>2</td>\n",
       "      <td>Air Heads</td>\n",
       "      <td>No</td>\n",
       "      <td>Yes</td>\n",
       "      <td>No</td>\n",
       "      <td>No</td>\n",
       "      <td>No</td>\n",
       "      <td>No</td>\n",
       "      <td>No</td>\n",
       "      <td>No</td>\n",
       "      <td>No</td>\n",
       "      <td>0.906</td>\n",
       "      <td>0.511</td>\n",
       "      <td>52.341465</td>\n",
       "    </tr>\n",
       "    <tr>\n",
       "      <th>3</th>\n",
       "      <td>3</td>\n",
       "      <td>Almond Joy</td>\n",
       "      <td>Yes</td>\n",
       "      <td>No</td>\n",
       "      <td>No</td>\n",
       "      <td>Yes</td>\n",
       "      <td>No</td>\n",
       "      <td>No</td>\n",
       "      <td>No</td>\n",
       "      <td>Yes</td>\n",
       "      <td>No</td>\n",
       "      <td>0.465</td>\n",
       "      <td>0.767</td>\n",
       "      <td>50.347546</td>\n",
       "    </tr>\n",
       "    <tr>\n",
       "      <th>4</th>\n",
       "      <td>4</td>\n",
       "      <td>Baby Ruth</td>\n",
       "      <td>Yes</td>\n",
       "      <td>No</td>\n",
       "      <td>Yes</td>\n",
       "      <td>Yes</td>\n",
       "      <td>Yes</td>\n",
       "      <td>No</td>\n",
       "      <td>No</td>\n",
       "      <td>Yes</td>\n",
       "      <td>No</td>\n",
       "      <td>NaN</td>\n",
       "      <td>0.767</td>\n",
       "      <td>56.914547</td>\n",
       "    </tr>\n",
       "    <tr>\n",
       "      <th>...</th>\n",
       "      <td>...</td>\n",
       "      <td>...</td>\n",
       "      <td>...</td>\n",
       "      <td>...</td>\n",
       "      <td>...</td>\n",
       "      <td>...</td>\n",
       "      <td>...</td>\n",
       "      <td>...</td>\n",
       "      <td>...</td>\n",
       "      <td>...</td>\n",
       "      <td>...</td>\n",
       "      <td>...</td>\n",
       "      <td>...</td>\n",
       "      <td>...</td>\n",
       "    </tr>\n",
       "    <tr>\n",
       "      <th>78</th>\n",
       "      <td>78</td>\n",
       "      <td>Twizzlers</td>\n",
       "      <td>No</td>\n",
       "      <td>Yes</td>\n",
       "      <td>No</td>\n",
       "      <td>No</td>\n",
       "      <td>No</td>\n",
       "      <td>No</td>\n",
       "      <td>No</td>\n",
       "      <td>No</td>\n",
       "      <td>No</td>\n",
       "      <td>0.220</td>\n",
       "      <td>0.116</td>\n",
       "      <td>45.466282</td>\n",
       "    </tr>\n",
       "    <tr>\n",
       "      <th>79</th>\n",
       "      <td>79</td>\n",
       "      <td>Warheads</td>\n",
       "      <td>No</td>\n",
       "      <td>Yes</td>\n",
       "      <td>No</td>\n",
       "      <td>No</td>\n",
       "      <td>No</td>\n",
       "      <td>No</td>\n",
       "      <td>Yes</td>\n",
       "      <td>No</td>\n",
       "      <td>No</td>\n",
       "      <td>0.093</td>\n",
       "      <td>0.116</td>\n",
       "      <td>39.011898</td>\n",
       "    </tr>\n",
       "    <tr>\n",
       "      <th>80</th>\n",
       "      <td>80</td>\n",
       "      <td>Welch's Fruit Snacks</td>\n",
       "      <td>No</td>\n",
       "      <td>Yes</td>\n",
       "      <td>No</td>\n",
       "      <td>No</td>\n",
       "      <td>No</td>\n",
       "      <td>No</td>\n",
       "      <td>No</td>\n",
       "      <td>No</td>\n",
       "      <td>Yes</td>\n",
       "      <td>0.313</td>\n",
       "      <td>0.313</td>\n",
       "      <td>44.375519</td>\n",
       "    </tr>\n",
       "    <tr>\n",
       "      <th>81</th>\n",
       "      <td>81</td>\n",
       "      <td>Werther's Original Caramel</td>\n",
       "      <td>No</td>\n",
       "      <td>No</td>\n",
       "      <td>Yes</td>\n",
       "      <td>No</td>\n",
       "      <td>No</td>\n",
       "      <td>No</td>\n",
       "      <td>Yes</td>\n",
       "      <td>No</td>\n",
       "      <td>No</td>\n",
       "      <td>0.186</td>\n",
       "      <td>0.267</td>\n",
       "      <td>41.904308</td>\n",
       "    </tr>\n",
       "    <tr>\n",
       "      <th>82</th>\n",
       "      <td>82</td>\n",
       "      <td>Whoppers</td>\n",
       "      <td>Yes</td>\n",
       "      <td>No</td>\n",
       "      <td>No</td>\n",
       "      <td>No</td>\n",
       "      <td>No</td>\n",
       "      <td>Yes</td>\n",
       "      <td>No</td>\n",
       "      <td>No</td>\n",
       "      <td>Yes</td>\n",
       "      <td>0.872</td>\n",
       "      <td>0.848</td>\n",
       "      <td>49.524113</td>\n",
       "    </tr>\n",
       "  </tbody>\n",
       "</table>\n",
       "<p>83 rows × 14 columns</p>\n",
       "</div>"
      ],
      "text/plain": [
       "    id              competitorname chocolate fruity caramel peanutyalmondy  \\\n",
       "0    0                   100 Grand       Yes     No     Yes             No   \n",
       "1    1                3 Musketeers       Yes     No      No             No   \n",
       "2    2                   Air Heads        No    Yes      No             No   \n",
       "3    3                  Almond Joy       Yes     No      No            Yes   \n",
       "4    4                   Baby Ruth       Yes     No     Yes            Yes   \n",
       "..  ..                         ...       ...    ...     ...            ...   \n",
       "78  78                   Twizzlers        No    Yes      No             No   \n",
       "79  79                    Warheads        No    Yes      No             No   \n",
       "80  80        Welch's Fruit Snacks        No    Yes      No             No   \n",
       "81  81  Werther's Original Caramel        No     No     Yes             No   \n",
       "82  82                    Whoppers       Yes     No      No             No   \n",
       "\n",
       "   nougat crispedricewafer hard  bar pluribus  sugarpercent  pricepercent  \\\n",
       "0      No              Yes   No  Yes       No           NaN         0.860   \n",
       "1     Yes               No   No  Yes       No         0.604         0.511   \n",
       "2      No               No   No   No       No         0.906         0.511   \n",
       "3      No               No   No  Yes       No         0.465         0.767   \n",
       "4     Yes               No   No  Yes       No           NaN         0.767   \n",
       "..    ...              ...  ...  ...      ...           ...           ...   \n",
       "78     No               No   No   No       No         0.220         0.116   \n",
       "79     No               No  Yes   No       No         0.093         0.116   \n",
       "80     No               No   No   No      Yes         0.313         0.313   \n",
       "81     No               No  Yes   No       No         0.186         0.267   \n",
       "82     No              Yes   No   No      Yes         0.872         0.848   \n",
       "\n",
       "    winpercent  \n",
       "0    66.971725  \n",
       "1    67.602936  \n",
       "2    52.341465  \n",
       "3    50.347546  \n",
       "4    56.914547  \n",
       "..         ...  \n",
       "78   45.466282  \n",
       "79   39.011898  \n",
       "80   44.375519  \n",
       "81   41.904308  \n",
       "82   49.524113  \n",
       "\n",
       "[83 rows x 14 columns]"
      ]
     },
     "execution_count": 18,
     "metadata": {},
     "output_type": "execute_result"
    }
   ],
   "source": [
    "df1 = pd.read_csv(\"candy.csv\")\n",
    "df1"
   ]
  },
  {
   "cell_type": "code",
   "execution_count": 19,
   "id": "29ff61e9-51f6-402b-b49d-dfcc089e7c0d",
   "metadata": {},
   "outputs": [
    {
     "data": {
      "text/plain": [
       "id                  0\n",
       "competitorname      0\n",
       "chocolate           0\n",
       "fruity              0\n",
       "caramel             0\n",
       "peanutyalmondy      0\n",
       "nougat              0\n",
       "crispedricewafer    0\n",
       "hard                0\n",
       "bar                 0\n",
       "pluribus            0\n",
       "sugarpercent        2\n",
       "pricepercent        0\n",
       "winpercent          0\n",
       "dtype: int64"
      ]
     },
     "execution_count": 19,
     "metadata": {},
     "output_type": "execute_result"
    }
   ],
   "source": [
    "df1.isnull().sum()"
   ]
  },
  {
   "cell_type": "code",
   "execution_count": 20,
   "id": "c24101f5-a162-4bc3-ae65-8153bc835603",
   "metadata": {},
   "outputs": [],
   "source": [
    "df1.dropna(inplace=True)"
   ]
  },
  {
   "cell_type": "code",
   "execution_count": 21,
   "id": "80e2bee4-5532-4606-9b6c-fb9ad593cc82",
   "metadata": {},
   "outputs": [
    {
     "data": {
      "text/plain": [
       "id                  0\n",
       "competitorname      0\n",
       "chocolate           0\n",
       "fruity              0\n",
       "caramel             0\n",
       "peanutyalmondy      0\n",
       "nougat              0\n",
       "crispedricewafer    0\n",
       "hard                0\n",
       "bar                 0\n",
       "pluribus            0\n",
       "sugarpercent        0\n",
       "pricepercent        0\n",
       "winpercent          0\n",
       "dtype: int64"
      ]
     },
     "execution_count": 21,
     "metadata": {},
     "output_type": "execute_result"
    }
   ],
   "source": [
    "df1.isnull().sum()"
   ]
  },
  {
   "cell_type": "code",
   "execution_count": 22,
   "id": "2dda339f-c65c-436f-b3db-b6af27a34c24",
   "metadata": {},
   "outputs": [
    {
     "name": "stdout",
     "output_type": "stream",
     "text": [
      "<class 'pandas.core.frame.DataFrame'>\n",
      "Int64Index: 81 entries, 1 to 82\n",
      "Data columns (total 14 columns):\n",
      " #   Column            Non-Null Count  Dtype  \n",
      "---  ------            --------------  -----  \n",
      " 0   id                81 non-null     int64  \n",
      " 1   competitorname    81 non-null     int64  \n",
      " 2   chocolate         81 non-null     int64  \n",
      " 3   fruity            81 non-null     int64  \n",
      " 4   caramel           81 non-null     int64  \n",
      " 5   peanutyalmondy    81 non-null     int64  \n",
      " 6   nougat            81 non-null     int64  \n",
      " 7   crispedricewafer  81 non-null     int64  \n",
      " 8   hard              81 non-null     int64  \n",
      " 9   bar               81 non-null     int64  \n",
      " 10  pluribus          81 non-null     int64  \n",
      " 11  sugarpercent      81 non-null     float64\n",
      " 12  pricepercent      81 non-null     float64\n",
      " 13  winpercent        81 non-null     float64\n",
      "dtypes: float64(3), int64(11)\n",
      "memory usage: 9.5 KB\n",
      "None\n"
     ]
    }
   ],
   "source": [
    "from sklearn.preprocessing import LabelEncoder\n",
    "\n",
    "LabelEncoder = LabelEncoder()\n",
    "\n",
    "for i in df1.columns:\n",
    "  if i in df1.select_dtypes(\"object\").columns:\n",
    "    df1[i] = LabelEncoder.fit_transform(df1[i])\n",
    "\n",
    "print(df1.info())"
   ]
  },
  {
   "cell_type": "code",
   "execution_count": 23,
   "id": "f5304580-e791-43f2-b5b6-4905d526c8fa",
   "metadata": {},
   "outputs": [],
   "source": [
    "X1 = df1.drop('bar', axis = 1)"
   ]
  },
  {
   "cell_type": "code",
   "execution_count": 24,
   "id": "b2467c69-eb8b-425a-8e5a-dde740ad4c97",
   "metadata": {},
   "outputs": [],
   "source": [
    "y1 = df1['bar']"
   ]
  },
  {
   "cell_type": "code",
   "execution_count": 25,
   "id": "0d5a0bea-b00e-4f81-8f43-fb0473118d17",
   "metadata": {},
   "outputs": [],
   "source": [
    "X1_train, X1_test, y1_train, y1_test = train_test_split(X1, y1, test_size=0.25, shuffle=True, random_state=105)"
   ]
  },
  {
   "cell_type": "code",
   "execution_count": 26,
   "id": "c7354cbe-7914-4ebe-b79a-294bd3bf01be",
   "metadata": {},
   "outputs": [],
   "source": [
    "ss = StandardScaler()\n",
    "X1_train = ss.fit_transform(X1_train)\n",
    "X1_test = ss.transform(X1_test)"
   ]
  },
  {
   "cell_type": "code",
   "execution_count": 27,
   "id": "1d3df6ad-6671-41a1-8491-844b09f673d3",
   "metadata": {},
   "outputs": [],
   "source": [
    "mlp1 = MLPRegressor(hidden_layer_sizes=(10,20), activation='relu', solver='adam', alpha=0.001)\n",
    "mlp1.fit(X1_train, y1_train)\n",
    "predictions1 = mlp.predict(X1_test)"
   ]
  },
  {
   "cell_type": "code",
   "execution_count": 28,
   "id": "9ba57701-4546-4652-9901-8aa7740270ef",
   "metadata": {},
   "outputs": [
    {
     "data": {
      "text/plain": [
       "array([0, 0, 0, 0, 1, 0, 0, 0, 0, 0, 0, 0, 0, 0, 0, 0, 0, 0, 0, 0, 0])"
      ]
     },
     "execution_count": 28,
     "metadata": {},
     "output_type": "execute_result"
    }
   ],
   "source": [
    "predictions1"
   ]
  },
  {
   "cell_type": "code",
   "execution_count": 29,
   "id": "35fca1f3-d988-490a-afce-8e2f5b65d10d",
   "metadata": {},
   "outputs": [
    {
     "name": "stdout",
     "output_type": "stream",
     "text": [
      "accuracy 0.8571428571428571\n",
      "mse: 0.14285714285714285\n",
      "Rmse: 0.3779644730092272\n",
      "mae: 0.14285714285714285\n"
     ]
    }
   ],
   "source": [
    "acc = accuracy_score(predictions1, y1_test)\n",
    "print(\"accuracy\", acc)\n",
    "mse = mean_squared_error(y1_test, predictions1)\n",
    "print(\"mse:\", mse)\n",
    "rmse = np.sqrt(mse)\n",
    "print(\"Rmse:\", rmse)\n",
    "mae = mean_absolute_error(y1_test, predictions1)\n",
    "print(\"mae:\", mae)"
   ]
  },
  {
   "cell_type": "code",
   "execution_count": 30,
   "id": "2fc7720d-59b9-4197-b4b5-f106d629ee11",
   "metadata": {},
   "outputs": [
    {
     "data": {
      "text/plain": [
       "<BarContainer object of 21 artists>"
      ]
     },
     "execution_count": 30,
     "metadata": {},
     "output_type": "execute_result"
    },
    {
     "data": {
      "image/png": "[encoded data removed]",
      "text/plain": [
       "<Figure size 1170x827 with 1 Axes>"
      ]
     },
     "metadata": {},
     "output_type": "display_data"
    }
   ],
   "source": [
    "plt.bar(predictions1, y1_test, color = 'blue')\n",
    "plt.bar(y1_test, y1_test, color = 'red')"
   ]
  },
  {
   "cell_type": "code",
   "execution_count": 31,
   "id": "6cba3e9c-a7a0-4285-80ba-1b040de9086e",
   "metadata": {},
   "outputs": [
    {
     "data": {
      "text/plain": [
       "[<matplotlib.lines.Line2D at 0x7fd48dd08790>]"
      ]
     },
     "execution_count": 31,
     "metadata": {},
     "output_type": "execute_result"
    },
    {
     "data": {
      "image/png": "[encoded data removed]",
      "text/plain": [
       "<Figure size 1170x827 with 1 Axes>"
      ]
     },
     "metadata": {},
     "output_type": "display_data"
    }
   ],
   "source": [
    "plt.plot(y1_test)"
   ]
  }
 ],
 "metadata": {
  "kernelspec": {
   "display_name": "Python 3 (ipykernel)",
   "language": "python",
   "name": "python3"
  },
  "language_info": {
   "codemirror_mode": {
    "name": "ipython",
    "version": 3
   },
   "file_extension": ".py",
   "mimetype": "text/x-python",
   "name": "python",
   "nbconvert_exporter": "python",
   "pygments_lexer": "ipython3",
   "version": "3.9.15"
  }
 },
 "nbformat": 4,
 "nbformat_minor": 5
}

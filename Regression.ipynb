{
 "cells": [
  {
   "cell_type": "code",
   "execution_count": 1,
   "metadata": {
    "id": "pylYG7I49VUO"
   },
   "outputs": [],
   "source": [
    "import math\n",
    "import pandas as pd\n",
    "import numpy as np\n",
    "\n",
    "import matplotlib.pyplot as plt\n",
    "\n",
    "from sklearn.impute import KNNImputer\n",
    "from sklearn.preprocessing import LabelEncoder , MinMaxScaler\n",
    "from sklearn.feature_selection import VarianceThreshold , chi2 , SelectKBest"
   ]
  },
  {
   "cell_type": "markdown",
   "metadata": {
    "id": "C-ZJUvDzSlYe"
   },
   "source": [
    "## Simple Linear Regression"
   ]
  },
  {
   "cell_type": "markdown",
   "metadata": {
    "id": "_FAu6kG8SyIA"
   },
   "source": [
    "#### 1. Read CSV data into pandas Dataframe object"
   ]
  },
  {
   "cell_type": "code",
   "execution_count": 2,
   "metadata": {
    "colab": {
     "base_uri": "https://localhost:8080/",
     "height": 352
    },
    "id": "1hCrOsRvS5tr",
    "outputId": "6ffd7ccf-7e51-42cb-b241-9352ed208bdc"
   },
   "outputs": [
    {
     "data": {
      "text/html": [
       "<div>\n",
       "<style scoped>\n",
       "    .dataframe tbody tr th:only-of-type {\n",
       "        vertical-align: middle;\n",
       "    }\n",
       "\n",
       "    .dataframe tbody tr th {\n",
       "        vertical-align: top;\n",
       "    }\n",
       "\n",
       "    .dataframe thead th {\n",
       "        text-align: right;\n",
       "    }\n",
       "</style>\n",
       "<table border=\"1\" class=\"dataframe\">\n",
       "  <thead>\n",
       "    <tr style=\"text-align: right;\">\n",
       "      <th></th>\n",
       "      <th>age</th>\n",
       "      <th>sex</th>\n",
       "      <th>bmi</th>\n",
       "      <th>children</th>\n",
       "      <th>smoker</th>\n",
       "      <th>region</th>\n",
       "      <th>charges</th>\n",
       "    </tr>\n",
       "  </thead>\n",
       "  <tbody>\n",
       "    <tr>\n",
       "      <th>0</th>\n",
       "      <td>19</td>\n",
       "      <td>female</td>\n",
       "      <td>27.900</td>\n",
       "      <td>0</td>\n",
       "      <td>yes</td>\n",
       "      <td>southwest</td>\n",
       "      <td>16884.92400</td>\n",
       "    </tr>\n",
       "    <tr>\n",
       "      <th>1</th>\n",
       "      <td>18</td>\n",
       "      <td>male</td>\n",
       "      <td>33.770</td>\n",
       "      <td>1</td>\n",
       "      <td>no</td>\n",
       "      <td>southeast</td>\n",
       "      <td>1725.55230</td>\n",
       "    </tr>\n",
       "    <tr>\n",
       "      <th>2</th>\n",
       "      <td>28</td>\n",
       "      <td>male</td>\n",
       "      <td>33.000</td>\n",
       "      <td>3</td>\n",
       "      <td>no</td>\n",
       "      <td>southeast</td>\n",
       "      <td>4449.46200</td>\n",
       "    </tr>\n",
       "    <tr>\n",
       "      <th>3</th>\n",
       "      <td>33</td>\n",
       "      <td>male</td>\n",
       "      <td>22.705</td>\n",
       "      <td>0</td>\n",
       "      <td>no</td>\n",
       "      <td>northwest</td>\n",
       "      <td>21984.47061</td>\n",
       "    </tr>\n",
       "    <tr>\n",
       "      <th>4</th>\n",
       "      <td>32</td>\n",
       "      <td>male</td>\n",
       "      <td>28.880</td>\n",
       "      <td>0</td>\n",
       "      <td>no</td>\n",
       "      <td>northwest</td>\n",
       "      <td>3866.85520</td>\n",
       "    </tr>\n",
       "  </tbody>\n",
       "</table>\n",
       "</div>"
      ],
      "text/plain": [
       "   age     sex     bmi  children smoker     region      charges\n",
       "0   19  female  27.900         0    yes  southwest  16884.92400\n",
       "1   18    male  33.770         1     no  southeast   1725.55230\n",
       "2   28    male  33.000         3     no  southeast   4449.46200\n",
       "3   33    male  22.705         0     no  northwest  21984.47061\n",
       "4   32    male  28.880         0     no  northwest   3866.85520"
      ]
     },
     "execution_count": 2,
     "metadata": {},
     "output_type": "execute_result"
    }
   ],
   "source": [
    "df = pd.read_csv(\"insurance.csv\")\n",
    "df.head()"
   ]
  },
  {
   "cell_type": "markdown",
   "metadata": {
    "id": "HdxMYisFS7qT"
   },
   "source": [
    "#### 2. Do necessary preprocessing"
   ]
  },
  {
   "cell_type": "code",
   "execution_count": 3,
   "metadata": {
    "colab": {
     "base_uri": "https://localhost:8080/"
    },
    "id": "7AG_7i32Dget",
    "outputId": "3a455a44-2943-43a6-d65e-c6af3620fa80"
   },
   "outputs": [
    {
     "name": "stdout",
     "output_type": "stream",
     "text": [
      "Dropping Missing Values > 10%\n",
      "\n",
      " Before drop :  (1338, 7)\n",
      " After  drop :  (1338, 7)\n",
      "\n"
     ]
    }
   ],
   "source": [
    "print(\"Dropping Missing Values > 10%\")\n",
    "print()\n",
    "\n",
    "df_len = len(df)\n",
    "mis_vals = {}\n",
    "\n",
    "drop_cols = []\n",
    "impt_cols = []\n",
    "\n",
    "for col in df.columns:\n",
    "  percent = (df[col].isnull().sum()/df_len) * 100\n",
    "  if percent > 10:\n",
    "    drop_cols.append(col)\n",
    "  elif percent > 0:\n",
    "    impt_cols.append(col)\n",
    "  \n",
    "  mis_vals[col] = percent\n",
    "\n",
    "print(\" Before drop : \",df.shape)\n",
    "df.drop(drop_cols,axis=1,inplace=True)\n",
    "print(\" After  drop : \",df.shape)\n",
    "print()\n"
   ]
  },
  {
   "cell_type": "code",
   "execution_count": 4,
   "metadata": {
    "colab": {
     "base_uri": "https://localhost:8080/"
    },
    "id": "hfGdEj2zDiUz",
    "outputId": "9ec639eb-a467-4a5b-fe70-0c4f1c8064ca"
   },
   "outputs": [
    {
     "name": "stdout",
     "output_type": "stream",
     "text": [
      "- Label Encode Non-Numerical features\n",
      "\n",
      "  sex  :\t 2\n",
      "  smoker  :\t 2\n",
      "  region  :\t 4\n",
      "\n"
     ]
    }
   ],
   "source": [
    "print(\"- Label Encode Non-Numerical features\")\n",
    "print()\n",
    "\n",
    "labelencoder = LabelEncoder()\n",
    "\n",
    "for col in df.columns:\n",
    "  if df[col].dtype == \"object\":\n",
    "    df[col] = labelencoder.fit_transform(df[col])\n",
    "    print(\" \",col,\" :\\t\",len(labelencoder.classes_))\n",
    "print()"
   ]
  },
  {
   "cell_type": "code",
   "execution_count": 5,
   "metadata": {
    "colab": {
     "base_uri": "https://localhost:8080/"
    },
    "id": "3wtWP89gDj1X",
    "outputId": "c2df30f1-d543-4c8f-b5f5-e948b3f6b0cb"
   },
   "outputs": [
    {
     "name": "stdout",
     "output_type": "stream",
     "text": [
      "- Data Imputation via Mean\n"
     ]
    }
   ],
   "source": [
    "print(\"- Data Imputation via Mean\")\n",
    "\n",
    "for col in impt_cols:\n",
    "  if df[col].dtype in [\"int64\",\"float64\"]:\n",
    "    df[col].fillna(df[col].mean(),inplace=True)"
   ]
  },
  {
   "cell_type": "code",
   "execution_count": 6,
   "metadata": {
    "colab": {
     "base_uri": "https://localhost:8080/"
    },
    "id": "sOD_ddjyDmQL",
    "outputId": "42312fd2-e2b6-4b5f-9128-97040ae19199"
   },
   "outputs": [
    {
     "name": "stdout",
     "output_type": "stream",
     "text": [
      "- Z-Score > 3 row Drop\n",
      "\n",
      " Before Removal: (1338, 7) rows and cols\n",
      " After  Removal: (1309, 7) rows and cols\n",
      "\n"
     ]
    }
   ],
   "source": [
    "print(\"- Z-Score > 3 row Drop\")\n",
    "\n",
    "print()\n",
    "print(\" Before Removal:\",df.shape,\"rows and cols\")\n",
    "\n",
    "drop_indexes = []\n",
    "\n",
    "for col in df.columns:\n",
    "  if df[col].dtype in [\"int64\",\"float64\"]:\n",
    "    mean = df[col].mean()\n",
    "    std  = df[col].std()\n",
    "\n",
    "    for i in range(len(df)):\n",
    "      val = df.loc[i,col]\n",
    "      if( ((val-mean)/std) > 3):\n",
    "        drop_indexes.append(i)\n",
    "\n",
    "df.drop(drop_indexes,inplace=True)    \n",
    "print(\" After  Removal:\",df.shape,\"rows and cols\")\n",
    "print()"
   ]
  },
  {
   "cell_type": "code",
   "execution_count": 7,
   "metadata": {
    "id": "3vdNA7znS7Mp"
   },
   "outputs": [],
   "source": [
    "df.reset_index(inplace=True)\n",
    "minmax = MinMaxScaler()\n",
    "\n",
    "for col in df.columns:\n",
    "  df[col] = pd.Series(minmax.fit_transform(df[col].to_numpy().reshape(-1,1)).reshape(-1))"
   ]
  },
  {
   "cell_type": "markdown",
   "metadata": {
    "id": "LFIm0ErCS_CA"
   },
   "source": [
    "#### 3. Choose independent variable (X) and dependent variable (Y) from given dataset"
   ]
  },
  {
   "cell_type": "code",
   "execution_count": 8,
   "metadata": {
    "colab": {
     "base_uri": "https://localhost:8080/",
     "height": 302
    },
    "id": "QSQ00J7uEAd5",
    "outputId": "2e2244ce-2242-417b-b409-cdab6c9140d3"
   },
   "outputs": [
    {
     "data": {
      "text/html": [
       "<div>\n",
       "<style scoped>\n",
       "    .dataframe tbody tr th:only-of-type {\n",
       "        vertical-align: middle;\n",
       "    }\n",
       "\n",
       "    .dataframe tbody tr th {\n",
       "        vertical-align: top;\n",
       "    }\n",
       "\n",
       "    .dataframe thead th {\n",
       "        text-align: right;\n",
       "    }\n",
       "</style>\n",
       "<table border=\"1\" class=\"dataframe\">\n",
       "  <thead>\n",
       "    <tr style=\"text-align: right;\">\n",
       "      <th></th>\n",
       "      <th>index</th>\n",
       "      <th>age</th>\n",
       "      <th>sex</th>\n",
       "      <th>bmi</th>\n",
       "      <th>children</th>\n",
       "      <th>smoker</th>\n",
       "      <th>region</th>\n",
       "      <th>charges</th>\n",
       "    </tr>\n",
       "  </thead>\n",
       "  <tbody>\n",
       "    <tr>\n",
       "      <th>0</th>\n",
       "      <td>0.000000</td>\n",
       "      <td>0.021739</td>\n",
       "      <td>0.0</td>\n",
       "      <td>0.371847</td>\n",
       "      <td>0.00</td>\n",
       "      <td>1.0</td>\n",
       "      <td>1.000000</td>\n",
       "      <td>0.325308</td>\n",
       "    </tr>\n",
       "    <tr>\n",
       "      <th>1</th>\n",
       "      <td>0.000748</td>\n",
       "      <td>0.000000</td>\n",
       "      <td>1.0</td>\n",
       "      <td>0.554656</td>\n",
       "      <td>0.25</td>\n",
       "      <td>0.0</td>\n",
       "      <td>0.666667</td>\n",
       "      <td>0.012458</td>\n",
       "    </tr>\n",
       "    <tr>\n",
       "      <th>2</th>\n",
       "      <td>0.001496</td>\n",
       "      <td>0.217391</td>\n",
       "      <td>1.0</td>\n",
       "      <td>0.530676</td>\n",
       "      <td>0.75</td>\n",
       "      <td>0.0</td>\n",
       "      <td>0.666667</td>\n",
       "      <td>0.068673</td>\n",
       "    </tr>\n",
       "    <tr>\n",
       "      <th>3</th>\n",
       "      <td>0.002244</td>\n",
       "      <td>0.326087</td>\n",
       "      <td>1.0</td>\n",
       "      <td>0.210059</td>\n",
       "      <td>0.00</td>\n",
       "      <td>0.0</td>\n",
       "      <td>0.333333</td>\n",
       "      <td>0.430549</td>\n",
       "    </tr>\n",
       "    <tr>\n",
       "      <th>4</th>\n",
       "      <td>0.002992</td>\n",
       "      <td>0.304348</td>\n",
       "      <td>1.0</td>\n",
       "      <td>0.402367</td>\n",
       "      <td>0.00</td>\n",
       "      <td>0.0</td>\n",
       "      <td>0.333333</td>\n",
       "      <td>0.056649</td>\n",
       "    </tr>\n",
       "  </tbody>\n",
       "</table>\n",
       "</div>"
      ],
      "text/plain": [
       "      index       age  sex       bmi  children  smoker    region   charges\n",
       "0  0.000000  0.021739  0.0  0.371847      0.00     1.0  1.000000  0.325308\n",
       "1  0.000748  0.000000  1.0  0.554656      0.25     0.0  0.666667  0.012458\n",
       "2  0.001496  0.217391  1.0  0.530676      0.75     0.0  0.666667  0.068673\n",
       "3  0.002244  0.326087  1.0  0.210059      0.00     0.0  0.333333  0.430549\n",
       "4  0.002992  0.304348  1.0  0.402367      0.00     0.0  0.333333  0.056649"
      ]
     },
     "execution_count": 8,
     "metadata": {},
     "output_type": "execute_result"
    }
   ],
   "source": [
    "df.head()"
   ]
  },
  {
   "cell_type": "code",
   "execution_count": 9,
   "metadata": {
    "id": "7TNeOZWwTJKx"
   },
   "outputs": [],
   "source": [
    "X = df[\"age\"]\n",
    "Y = df[\"charges\"]"
   ]
  },
  {
   "cell_type": "markdown",
   "metadata": {
    "id": "I0SjF6lMTJr8"
   },
   "source": [
    "#### 4. Find the bo and b1 values to get Ypredicted"
   ]
  },
  {
   "cell_type": "code",
   "execution_count": 10,
   "metadata": {
    "colab": {
     "base_uri": "https://localhost:8080/"
    },
    "id": "pEqULxCzTN3m",
    "outputId": "3f6eb5e3-80c5-46d9-c4e3-862e823d958a"
   },
   "outputs": [
    {
     "name": "stdout",
     "output_type": "stream",
     "text": [
      "bo :  0.1353570227034943  | b1 :  0.24150032696029355\n"
     ]
    }
   ],
   "source": [
    "num , den = 0 , 0 \n",
    "\n",
    "mean_x = X.mean()\n",
    "mean_y = Y.mean()\n",
    "\n",
    "for i , x in enumerate(X):\n",
    "  y = Y[i]\n",
    "  num += (x-mean_x) * (y-mean_y)\n",
    "  den += (x-mean_x) ** 2\n",
    "\n",
    "b1 = num/den\n",
    "b0 = mean_y - (b1 * mean_x)\n",
    "\n",
    "print(\"bo : \",b0,\" | b1 : \",b1)"
   ]
  },
  {
   "cell_type": "markdown",
   "metadata": {
    "id": "U30a534cTOXQ"
   },
   "source": [
    "#### 5. After getting Ypred, calculate the SSE (sum of squared error)"
   ]
  },
  {
   "cell_type": "code",
   "execution_count": 11,
   "metadata": {
    "id": "YX1CgWNh7ZVU"
   },
   "outputs": [],
   "source": [
    "pred = lambda x,b0,b1 : b0 + (b1 * x)"
   ]
  },
  {
   "cell_type": "code",
   "execution_count": 12,
   "metadata": {
    "colab": {
     "base_uri": "https://localhost:8080/"
    },
    "id": "Q4TZtBl8TSM4",
    "outputId": "7c8b7dff-f26a-4e42-acc3-ec7154228137"
   },
   "outputs": [
    {
     "name": "stdout",
     "output_type": "stream",
     "text": [
      "rss :  69.60421153201948\n"
     ]
    }
   ],
   "source": [
    "ssr = 0\n",
    "sst = 0\n",
    "\n",
    "mean_y = Y.mean()\n",
    "\n",
    "for i,y in enumerate(Y):\n",
    "  x = X[i]\n",
    "  ssr += ((y - pred(x,b0,b1)) ** 2)\n",
    "  sst += (y - mean_y) ** 2\n",
    "\n",
    "print(\"rss : \",ssr)"
   ]
  },
  {
   "cell_type": "markdown",
   "metadata": {
    "id": "vq1xPYouTS0M"
   },
   "source": [
    "#### 6. Calculate the RMSE (Root Mean Square Error) value"
   ]
  },
  {
   "cell_type": "code",
   "execution_count": 13,
   "metadata": {
    "colab": {
     "base_uri": "https://localhost:8080/"
    },
    "id": "eN53Bkv1TWZS",
    "outputId": "ca7ac05a-4c42-40f5-9b55-0850e55e2708"
   },
   "outputs": [
    {
     "name": "stdout",
     "output_type": "stream",
     "text": [
      "rmse :  0.23059396440205251\n"
     ]
    }
   ],
   "source": [
    "n    = len(Y)\n",
    "rmse = math.sqrt(ssr/n)\n",
    "\n",
    "print(\"rmse : \",rmse)"
   ]
  },
  {
   "cell_type": "markdown",
   "metadata": {
    "id": "t8MccpMbTXAr"
   },
   "source": [
    "#### 7. Calculate the coefficient of determination (r2) r-square"
   ]
  },
  {
   "cell_type": "code",
   "execution_count": 14,
   "metadata": {
    "colab": {
     "base_uri": "https://localhost:8080/"
    },
    "id": "6dh1dCSTTcfU",
    "outputId": "e9f1f9df-d763-4e77-e1b2-a4c59784395d"
   },
   "outputs": [
    {
     "name": "stdout",
     "output_type": "stream",
     "text": [
      "r2 :  0.09318556158130042\n"
     ]
    }
   ],
   "source": [
    "r2 = 1 - (ssr/sst)\n",
    "print(\"r2 : \",r2)"
   ]
  },
  {
   "cell_type": "markdown",
   "metadata": {
    "id": "HSf2OfxDTdCI"
   },
   "source": [
    "#### 8. Plot regression line along with the given data points"
   ]
  },
  {
   "cell_type": "code",
   "execution_count": 15,
   "metadata": {
    "colab": {
     "base_uri": "https://localhost:8080/",
     "height": 279
    },
    "id": "W6Hanm_lTggj",
    "outputId": "a3c8a812-2c24-4e42-d0c7-5bdb71241188"
   },
   "outputs": [
    {
     "data": {
      "image/png": "[encoded data removed]",
      "text/plain": [
       "<Figure size 640x480 with 1 Axes>"
      ]
     },
     "metadata": {},
     "output_type": "display_data"
    }
   ],
   "source": [
    "plt.figure()\n",
    "plt.scatter(X, Y, color = 'red', alpha=0.5)\n",
    "\n",
    "plt_y = b0 + (b1 * np.linspace(0, 1.0))\n",
    "plt.plot(np.linspace(0, 1.0),plt_y, color = 'b')\n",
    "plt.xlabel(\"Schooling\")\n",
    "plt.ylabel(\"Life expectancy\")\n",
    "\n",
    "plt.show()"
   ]
  },
  {
   "cell_type": "markdown",
   "metadata": {
    "id": "NF9F2KCuTg7F"
   },
   "source": [
    "#### 9. Predict the output for a given input value"
   ]
  },
  {
   "cell_type": "code",
   "execution_count": 22,
   "metadata": {
    "colab": {
     "base_uri": "https://localhost:8080/"
    },
    "id": "E6CjGg3ITkoL",
    "outputId": "45ede5f3-34c5-4ef6-cd27-31867fc9cd77"
   },
   "outputs": [
    {
     "name": "stdout",
     "output_type": "stream",
     "text": [
      "Enter age:  34\n"
     ]
    },
    {
     "name": "stdout",
     "output_type": "stream",
     "text": [
      "Predicted Charges : 8.346368139353476\n"
     ]
    }
   ],
   "source": [
    "print(\"Predicted Charges :\",b0 + (b1 * float(input(\"Enter age: \"))))"
   ]
  }
 ],
 "metadata": {
  "colab": {
   "collapsed_sections": [
    "sRMd2XVsPla_",
    "7mJLlmN7T7Ag",
    "QkruOBJ-UAzd",
    "ZzSDHqLxUFQs",
    "JcnRNi2GUK7u",
    "7vEfvjs6UOrV",
    "C59fxmggUShQ",
    "KUn5HjM5UW46",
    "iAC9CkpHUaqi",
    "lT5ynLALUhsL"
   ],
   "provenance": []
  },
  "kernelspec": {
   "display_name": "Python [conda env:root] *",
   "language": "python",
   "name": "conda-root-py"
  },
  "language_info": {
   "codemirror_mode": {
    "name": "ipython",
    "version": 3
   },
   "file_extension": ".py",
   "mimetype": "text/x-python",
   "name": "python",
   "nbconvert_exporter": "python",
   "pygments_lexer": "ipython3",
   "version": "3.9.15"
  }
 },
 "nbformat": 4,
 "nbformat_minor": 4
}
